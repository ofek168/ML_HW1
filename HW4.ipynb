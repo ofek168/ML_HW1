{
 "cells": [
  {
   "cell_type": "markdown",
   "metadata": {},
   "source": [
    "# Homework 4"
   ]
  },
  {
   "cell_type": "code",
   "execution_count": 28,
   "metadata": {},
   "outputs": [
    {
     "name": "stdout",
     "output_type": "stream",
     "text": [
      "By Ofek Marom\n"
     ]
    }
   ],
   "source": [
    "print('By Ofek Marom')"
   ]
  },
  {
   "cell_type": "markdown",
   "metadata": {},
   "source": [
    "In this assignment, we are working on a list of 1200 bitstrings, where each of them contains 16 bits. <br >\n",
    "We will apply Agglomerative Clustering, K-means Clustering, and PCA to this dataset. <br >\n",
    "\n",
    "## Background and Data Information\n",
    "For a bitstring $S$ in this dataset, we describe $S = \\{s_{15}, s_{14}, s_{13}, s_{12}, \\ldots, s_{0} \\}$, where $s_{15}$ is often known as the most significant bit (MSB) and $s_0$ as the least significant bit (LSB). <br >\n",
    "\n",
    "There are duplicated bitstrings in this dataset, but they will not affect this assignment. Don't worry about them. <br >\n",
    "\n",
    "## Equivalence Relation\n",
    "\n",
    "**This is an important concept to Exercise 1.**\n",
    "\n",
    "Let's say if we have two bitstrings, $A = \\{a_{15}, a_{14}, a_{13}, \\ldots, a_{0} \\}$ and $B = \\{b_{15}, b_{14}, b_{13}, \\ldots, b_{0} \\}$. <br >\n",
    "\n",
    "We can flip one bit $a_i$ in $A$ to get another bitstring $A'$, such that the difference of $A$ and $A'$ is only one bit. We define the above transformation to be $A \\to A'$. <br >\n",
    "\n",
    "\n",
    "We call two bitstrings $A$ and $B$ to be **equivalent** ($A \\sim B$) if there exists a sequence $A \\to C_1 \\to C_2 \\to \\cdots \\to C_n \\to B$, where $\\forall i, C_i$ belongs to the dataset. \n",
    "\n",
    "It can be seen that equivalence is both __commutative__ ($A \\sim B \\iff B \\sim A$) as well as __transitive__ ($A \\sim B, B \\sim C \\implies A \\sim C$). <br >\n",
    "\n",
    "We can say that the elements in the above sequence $\\{ A, C_1, \\ldots, C_n, B\\}$ form an equivalence class. Given a new bitstring $X$, we can see that if $X \\sim C_i$, $1 \\le i \\le n$, then $X$ will be added to the above equivalence class, and by the transitive property of equivalence relations, $X \\sim A$, and $X \\sim B$.\n",
    "\n",
    "### Example\n",
    "\n",
    "Let's say we have 4 bitstrings, each of them is 4 bits long. They are $0000, 0010, 0110, 1100$, respectively.<br >\n",
    "\n",
    "We can say $0000 \\sim 0110$ because $0000 \\to 0010 \\to 0110$. <br >\n",
    "\n",
    "However, $0000 \\nsim 1100$. There may be sequences like $0000 \\to 1000 \\to 1100$ or $0000 \\to 0100 \\to 1100$, but neither $1000$ nor $0100$ is in our dataset. <br >\n",
    "\n",
    "Ultimately, $\\{0000, 0010, 0110\\}$ form an equivalence class, whereas $\\{1100\\}$ is the other. As a result, there are two classes."
   ]
  },
  {
   "cell_type": "markdown",
   "metadata": {},
   "source": [
    "### Libraries that can be used: numpy, scipy, pandas, scikit-learn, matplotlib, seaborn\n",
    "Any libraries used in the discussion materials are also allowed."
   ]
  },
  {
   "cell_type": "markdown",
   "metadata": {},
   "source": [
    "# Exercises\n",
    "## Exercise 1 - Agglomerative Clustering (40 points in total)"
   ]
  },
  {
   "cell_type": "markdown",
   "metadata": {},
   "source": [
    "Using agglomerative clustering with a distance threshold for early stopping, we can calculate the number of equivalence classes by counting the number of clusters. In order to perform agglomerative clustering, we have to consider what parameters may be used: <br >\n",
    "\n",
    "### Exercise 1.1 - Choosing Parameters (20 points)\n",
    "\n",
    " - Explain why you would pick these parameters. \n",
    "     - Which linkage rule should be used? (single-linkage, complete-linkage, or average-linkage)\n",
    "     - Which distance function should be used? (Euclidean distance, Manhattan distance, or cosine distance)\n",
    "     - What should the threshold distance be? \n",
    " \n",
    "Hints:\n",
    " - How the distance threshold works: Whenever two clusters are picked to consider merging them, the distance between those clusters is compared to the distance threshold. If the distance is smaller than the threshold, the clusters merge and the algorithm continues; Otherwise, they will not be merged.\n",
    " - How to choose a linkage rule: Think about how you would figure out which equivalence class the string $0001$ belongs to in the previously given example."
   ]
  },
  {
   "cell_type": "code",
   "execution_count": null,
   "metadata": {},
   "outputs": [],
   "source": [
    "#Which linkage rule should be used? (single-linkage, complete-linkage, or average-linkage)\n",
    "# complete-linkage\n",
    "#In genetics, complete (or absolute) linkage[1] is defined as the state in which two loci are so close together that alleles of these loci are virtually never separated by crossing over. The closer the physical location of two genes on the DNA, the less likely they are to be separated by a crossing-over event. In the case of male Drosophila there is complete absence of recombinant types due to absence of crossing over. This means that all of the genes that start out on a single chromosome, will end up on that same chromosome in their original configuration. In the absence of recombination, only parental phenotypes are expected.[2]\n",
    "#------------------\n",
    "#Which distance function should be used? (Euclidean distance, Manhattan distance, or cosine distance)\n",
    "# Cosine distance metric because it is mainly used to find the amount of similarity between two data points (our case)\n",
    "#------------------\n",
    "#What should the threshold distance be?\n",
    "# 3.5 => this will give us 4 clusters (see Dendrogram graph below)\n",
    "\n",
    "#------------------"
   ]
  },
  {
   "cell_type": "code",
   "execution_count": 185,
   "metadata": {},
   "outputs": [
    {
     "data": {
      "text/html": [
       "<div>\n",
       "<style scoped>\n",
       "    .dataframe tbody tr th:only-of-type {\n",
       "        vertical-align: middle;\n",
       "    }\n",
       "\n",
       "    .dataframe tbody tr th {\n",
       "        vertical-align: top;\n",
       "    }\n",
       "\n",
       "    .dataframe thead th {\n",
       "        text-align: right;\n",
       "    }\n",
       "</style>\n",
       "<table border=\"1\" class=\"dataframe\">\n",
       "  <thead>\n",
       "    <tr style=\"text-align: right;\">\n",
       "      <th></th>\n",
       "      <th>b15</th>\n",
       "      <th>b14</th>\n",
       "      <th>b13</th>\n",
       "      <th>b12</th>\n",
       "      <th>b11</th>\n",
       "      <th>b10</th>\n",
       "      <th>b9</th>\n",
       "      <th>b8</th>\n",
       "      <th>b7</th>\n",
       "      <th>b6</th>\n",
       "      <th>b5</th>\n",
       "      <th>b4</th>\n",
       "      <th>b3</th>\n",
       "      <th>b2</th>\n",
       "      <th>b1</th>\n",
       "      <th>b0</th>\n",
       "    </tr>\n",
       "  </thead>\n",
       "  <tbody>\n",
       "    <tr>\n",
       "      <th>0</th>\n",
       "      <td>0</td>\n",
       "      <td>0</td>\n",
       "      <td>0</td>\n",
       "      <td>0</td>\n",
       "      <td>0</td>\n",
       "      <td>0</td>\n",
       "      <td>1</td>\n",
       "      <td>1</td>\n",
       "      <td>0</td>\n",
       "      <td>1</td>\n",
       "      <td>1</td>\n",
       "      <td>1</td>\n",
       "      <td>1</td>\n",
       "      <td>1</td>\n",
       "      <td>0</td>\n",
       "      <td>0</td>\n",
       "    </tr>\n",
       "    <tr>\n",
       "      <th>1</th>\n",
       "      <td>0</td>\n",
       "      <td>0</td>\n",
       "      <td>0</td>\n",
       "      <td>0</td>\n",
       "      <td>0</td>\n",
       "      <td>0</td>\n",
       "      <td>1</td>\n",
       "      <td>1</td>\n",
       "      <td>0</td>\n",
       "      <td>0</td>\n",
       "      <td>1</td>\n",
       "      <td>1</td>\n",
       "      <td>1</td>\n",
       "      <td>1</td>\n",
       "      <td>0</td>\n",
       "      <td>0</td>\n",
       "    </tr>\n",
       "    <tr>\n",
       "      <th>2</th>\n",
       "      <td>0</td>\n",
       "      <td>0</td>\n",
       "      <td>0</td>\n",
       "      <td>0</td>\n",
       "      <td>0</td>\n",
       "      <td>0</td>\n",
       "      <td>0</td>\n",
       "      <td>1</td>\n",
       "      <td>0</td>\n",
       "      <td>0</td>\n",
       "      <td>1</td>\n",
       "      <td>1</td>\n",
       "      <td>1</td>\n",
       "      <td>1</td>\n",
       "      <td>0</td>\n",
       "      <td>0</td>\n",
       "    </tr>\n",
       "    <tr>\n",
       "      <th>3</th>\n",
       "      <td>0</td>\n",
       "      <td>0</td>\n",
       "      <td>0</td>\n",
       "      <td>0</td>\n",
       "      <td>0</td>\n",
       "      <td>0</td>\n",
       "      <td>1</td>\n",
       "      <td>1</td>\n",
       "      <td>0</td>\n",
       "      <td>0</td>\n",
       "      <td>1</td>\n",
       "      <td>1</td>\n",
       "      <td>1</td>\n",
       "      <td>1</td>\n",
       "      <td>0</td>\n",
       "      <td>0</td>\n",
       "    </tr>\n",
       "    <tr>\n",
       "      <th>4</th>\n",
       "      <td>0</td>\n",
       "      <td>0</td>\n",
       "      <td>0</td>\n",
       "      <td>0</td>\n",
       "      <td>0</td>\n",
       "      <td>1</td>\n",
       "      <td>1</td>\n",
       "      <td>1</td>\n",
       "      <td>0</td>\n",
       "      <td>0</td>\n",
       "      <td>1</td>\n",
       "      <td>1</td>\n",
       "      <td>1</td>\n",
       "      <td>1</td>\n",
       "      <td>0</td>\n",
       "      <td>0</td>\n",
       "    </tr>\n",
       "  </tbody>\n",
       "</table>\n",
       "</div>"
      ],
      "text/plain": [
       "   b15  b14  b13  b12  b11  b10  b9  b8  b7  b6  b5  b4  b3  b2  b1  b0\n",
       "0    0    0    0    0    0    0   1   1   0   1   1   1   1   1   0   0\n",
       "1    0    0    0    0    0    0   1   1   0   0   1   1   1   1   0   0\n",
       "2    0    0    0    0    0    0   0   1   0   0   1   1   1   1   0   0\n",
       "3    0    0    0    0    0    0   1   1   0   0   1   1   1   1   0   0\n",
       "4    0    0    0    0    0    1   1   1   0   0   1   1   1   1   0   0"
      ]
     },
     "metadata": {},
     "output_type": "display_data"
    }
   ],
   "source": [
    "import pandas as pd\n",
    "#from bitstring import BitArray\n",
    "df = pd.read_csv('./bitstrings.csv')\n",
    "display(df.head())\n"
   ]
  },
  {
   "cell_type": "code",
   "execution_count": 186,
   "metadata": {},
   "outputs": [
    {
     "data": {
      "text/html": [
       "<div>\n",
       "<style scoped>\n",
       "    .dataframe tbody tr th:only-of-type {\n",
       "        vertical-align: middle;\n",
       "    }\n",
       "\n",
       "    .dataframe tbody tr th {\n",
       "        vertical-align: top;\n",
       "    }\n",
       "\n",
       "    .dataframe thead th {\n",
       "        text-align: right;\n",
       "    }\n",
       "</style>\n",
       "<table border=\"1\" class=\"dataframe\">\n",
       "  <thead>\n",
       "    <tr style=\"text-align: right;\">\n",
       "      <th></th>\n",
       "      <th>b15</th>\n",
       "      <th>b14</th>\n",
       "      <th>b13</th>\n",
       "      <th>b12</th>\n",
       "      <th>b11</th>\n",
       "      <th>b10</th>\n",
       "      <th>b9</th>\n",
       "      <th>b8</th>\n",
       "      <th>b7</th>\n",
       "      <th>b6</th>\n",
       "      <th>b5</th>\n",
       "      <th>b4</th>\n",
       "      <th>b3</th>\n",
       "      <th>b2</th>\n",
       "      <th>b1</th>\n",
       "      <th>b0</th>\n",
       "      <th>index</th>\n",
       "      <th>Number</th>\n",
       "    </tr>\n",
       "  </thead>\n",
       "  <tbody>\n",
       "    <tr>\n",
       "      <th>0</th>\n",
       "      <td>0</td>\n",
       "      <td>0</td>\n",
       "      <td>0</td>\n",
       "      <td>0</td>\n",
       "      <td>0</td>\n",
       "      <td>0</td>\n",
       "      <td>1</td>\n",
       "      <td>1</td>\n",
       "      <td>0</td>\n",
       "      <td>1</td>\n",
       "      <td>1</td>\n",
       "      <td>1</td>\n",
       "      <td>1</td>\n",
       "      <td>1</td>\n",
       "      <td>0</td>\n",
       "      <td>0</td>\n",
       "      <td>1</td>\n",
       "      <td>892</td>\n",
       "    </tr>\n",
       "    <tr>\n",
       "      <th>1</th>\n",
       "      <td>0</td>\n",
       "      <td>0</td>\n",
       "      <td>0</td>\n",
       "      <td>0</td>\n",
       "      <td>0</td>\n",
       "      <td>0</td>\n",
       "      <td>1</td>\n",
       "      <td>1</td>\n",
       "      <td>0</td>\n",
       "      <td>0</td>\n",
       "      <td>1</td>\n",
       "      <td>1</td>\n",
       "      <td>1</td>\n",
       "      <td>1</td>\n",
       "      <td>0</td>\n",
       "      <td>0</td>\n",
       "      <td>2</td>\n",
       "      <td>828</td>\n",
       "    </tr>\n",
       "    <tr>\n",
       "      <th>2</th>\n",
       "      <td>0</td>\n",
       "      <td>0</td>\n",
       "      <td>0</td>\n",
       "      <td>0</td>\n",
       "      <td>0</td>\n",
       "      <td>0</td>\n",
       "      <td>0</td>\n",
       "      <td>1</td>\n",
       "      <td>0</td>\n",
       "      <td>0</td>\n",
       "      <td>1</td>\n",
       "      <td>1</td>\n",
       "      <td>1</td>\n",
       "      <td>1</td>\n",
       "      <td>0</td>\n",
       "      <td>0</td>\n",
       "      <td>3</td>\n",
       "      <td>316</td>\n",
       "    </tr>\n",
       "    <tr>\n",
       "      <th>3</th>\n",
       "      <td>0</td>\n",
       "      <td>0</td>\n",
       "      <td>0</td>\n",
       "      <td>0</td>\n",
       "      <td>0</td>\n",
       "      <td>0</td>\n",
       "      <td>1</td>\n",
       "      <td>1</td>\n",
       "      <td>0</td>\n",
       "      <td>0</td>\n",
       "      <td>1</td>\n",
       "      <td>1</td>\n",
       "      <td>1</td>\n",
       "      <td>1</td>\n",
       "      <td>0</td>\n",
       "      <td>0</td>\n",
       "      <td>4</td>\n",
       "      <td>828</td>\n",
       "    </tr>\n",
       "    <tr>\n",
       "      <th>4</th>\n",
       "      <td>0</td>\n",
       "      <td>0</td>\n",
       "      <td>0</td>\n",
       "      <td>0</td>\n",
       "      <td>0</td>\n",
       "      <td>1</td>\n",
       "      <td>1</td>\n",
       "      <td>1</td>\n",
       "      <td>0</td>\n",
       "      <td>0</td>\n",
       "      <td>1</td>\n",
       "      <td>1</td>\n",
       "      <td>1</td>\n",
       "      <td>1</td>\n",
       "      <td>0</td>\n",
       "      <td>0</td>\n",
       "      <td>5</td>\n",
       "      <td>1852</td>\n",
       "    </tr>\n",
       "  </tbody>\n",
       "</table>\n",
       "</div>"
      ],
      "text/plain": [
       "   b15  b14  b13  b12  b11  b10  b9  b8  b7  b6  b5  b4  b3  b2  b1  b0  \\\n",
       "0    0    0    0    0    0    0   1   1   0   1   1   1   1   1   0   0   \n",
       "1    0    0    0    0    0    0   1   1   0   0   1   1   1   1   0   0   \n",
       "2    0    0    0    0    0    0   0   1   0   0   1   1   1   1   0   0   \n",
       "3    0    0    0    0    0    0   1   1   0   0   1   1   1   1   0   0   \n",
       "4    0    0    0    0    0    1   1   1   0   0   1   1   1   1   0   0   \n",
       "\n",
       "   index  Number  \n",
       "0      1     892  \n",
       "1      2     828  \n",
       "2      3     316  \n",
       "3      4     828  \n",
       "4      5    1852  "
      ]
     },
     "metadata": {},
     "output_type": "display_data"
    },
    {
     "data": {
      "text/plain": [
       "array([[  1, 892],\n",
       "       [  2, 828],\n",
       "       [  3, 316],\n",
       "       [  4, 828]])"
      ]
     },
     "metadata": {},
     "output_type": "display_data"
    },
    {
     "data": {
      "text/plain": [
       "<matplotlib.collections.PathCollection at 0x228b8fa3100>"
      ]
     },
     "execution_count": 186,
     "metadata": {},
     "output_type": "execute_result"
    },
    {
     "data": {
      "image/png": "[encoded data removed]",
      "text/plain": [
       "<Figure size 432x288 with 1 Axes>"
      ]
     },
     "metadata": {
      "needs_background": "light"
     },
     "output_type": "display_data"
    }
   ],
   "source": [
    "import matplotlib.pyplot as plt\n",
    "Data = df.copy()\n",
    "#--- create X for plot---\n",
    "Data['index'] = range(1, len(df) + 1)\n",
    "#--- create Y for plot ---\n",
    "Data = Data.assign(Number=lambda x: ( x['b0'].astype(int) * pow(2,0)  + x['b1'].astype(int)  *pow(2,1)  + x['b2'].astype(int)  * pow(2,2)  + x['b3'].astype(int) * pow(2,3) + x['b4'].astype(int)*pow(2,4)+\n",
    "                                      x['b5'].astype(int)  * pow(2,5) + x['b6'].astype(int)  * pow(2,6)  + x['b7'].astype(int) * pow(2,7) + x['b8'].astype(int) * pow(2,8)  + \n",
    "                                      x['b9'].astype(int) * pow(2,9) +  x['b10'].astype(int) * pow(2,10) + x['b11'].astype(int)* pow(2,11) + x['b12'].astype(int)* pow(2,12)+\n",
    "                                      x['b13'].astype(int)* pow(2,13) + x['b14'].astype(int) * pow(2,14) + x['b15'].astype(int)* pow(2,15) ))\n",
    "display(Data.head())\n",
    "x = Data['index'][:100]\n",
    "y = Data['Number'][:100]\n",
    "New_X = Data.iloc[:, [16, 17]].values\n",
    "display(New_X[:4])\n",
    "# Scatter plot\n",
    "plt.scatter(x,y)"
   ]
  },
  {
   "cell_type": "code",
   "execution_count": 205,
   "metadata": {},
   "outputs": [
    {
     "data": {
      "text/plain": [
       "<matplotlib.lines.Line2D at 0x228c06e74f0>"
      ]
     },
     "execution_count": 205,
     "metadata": {},
     "output_type": "execute_result"
    },
    {
     "data": {
      "image/png": "[encoded data removed]",
      "text/plain": [
       "<Figure size 576x432 with 1 Axes>"
      ]
     },
     "metadata": {
      "needs_background": "light"
     },
     "output_type": "display_data"
    }
   ],
   "source": [
    "import scipy.cluster.hierarchy as shc1\n",
    "import matplotlib.pyplot as plt1\n",
    "plt1.figure(figsize=(8, 6))  \n",
    "plt1.title(\"Dendrograms\")  \n",
    "plt1.ylabel('cosine distance')\n",
    "dend = shc1.dendrogram(shc1.linkage(df, method='complete'))\n",
    "plt1.axhline(y=3.5, color='r', linestyle='--')"
   ]
  },
  {
   "cell_type": "markdown",
   "metadata": {},
   "source": [
    "### Exercise 1.2 - Agglomerative Clustering for Equivalence Classes (20 points)\n",
    "\n",
    " - Perform the agglomerative clustering with the parameters you picked in the above three questions.\n",
    " - Show the frequency(number of members) of each cluster. You are encouraged to create a bar chart to show the distribution as it will help you in Exercise 2, but printing only the numbers is also fine.\n",
    "\n",
    "Hints: \n",
    " - The value of ```distance_threshold``` in the arguments should be **slightly** higher than what you picked. This is because we only merge two clusters when their distance is **strictly smaller** than the threshold."
   ]
  },
  {
   "cell_type": "code",
   "execution_count": 206,
   "metadata": {},
   "outputs": [
    {
     "data": {
      "text/plain": [
       "array([0, 0, 0, ..., 1, 1, 1], dtype=int64)"
      ]
     },
     "metadata": {},
     "output_type": "display_data"
    },
    {
     "name": "stdout",
     "output_type": "stream",
     "text": [
      "Show the frequency(number of members) of each cluster\n"
     ]
    },
    {
     "data": {
      "text/plain": [
       "1    461\n",
       "0    439\n",
       "2    200\n",
       "3    100\n",
       "Name: cluster, dtype: int64"
      ]
     },
     "metadata": {},
     "output_type": "display_data"
    },
    {
     "data": {
      "text/html": [
       "<div>\n",
       "<style scoped>\n",
       "    .dataframe tbody tr th:only-of-type {\n",
       "        vertical-align: middle;\n",
       "    }\n",
       "\n",
       "    .dataframe tbody tr th {\n",
       "        vertical-align: top;\n",
       "    }\n",
       "\n",
       "    .dataframe thead th {\n",
       "        text-align: right;\n",
       "    }\n",
       "</style>\n",
       "<table border=\"1\" class=\"dataframe\">\n",
       "  <thead>\n",
       "    <tr style=\"text-align: right;\">\n",
       "      <th></th>\n",
       "      <th>cluster_size</th>\n",
       "      <th>index</th>\n",
       "    </tr>\n",
       "  </thead>\n",
       "  <tbody>\n",
       "    <tr>\n",
       "      <th>1</th>\n",
       "      <td>461</td>\n",
       "      <td>1</td>\n",
       "    </tr>\n",
       "    <tr>\n",
       "      <th>0</th>\n",
       "      <td>439</td>\n",
       "      <td>2</td>\n",
       "    </tr>\n",
       "    <tr>\n",
       "      <th>2</th>\n",
       "      <td>200</td>\n",
       "      <td>3</td>\n",
       "    </tr>\n",
       "    <tr>\n",
       "      <th>3</th>\n",
       "      <td>100</td>\n",
       "      <td>4</td>\n",
       "    </tr>\n",
       "  </tbody>\n",
       "</table>\n",
       "</div>"
      ],
      "text/plain": [
       "   cluster_size  index\n",
       "1           461      1\n",
       "0           439      2\n",
       "2           200      3\n",
       "3           100      4"
      ]
     },
     "metadata": {},
     "output_type": "display_data"
    },
    {
     "data": {
      "text/plain": [
       "<AxesSubplot:title={'center':'Agglomerative Clustering'}, xlabel='Cluster index', ylabel='Cluster size'>"
      ]
     },
     "execution_count": 206,
     "metadata": {},
     "output_type": "execute_result"
    },
    {
     "data": {
      "image/png": "[encoded data removed]",
      "text/plain": [
       "<Figure size 432x288 with 1 Axes>"
      ]
     },
     "metadata": {
      "needs_background": "light"
     },
     "output_type": "display_data"
    }
   ],
   "source": [
    "from sklearn.cluster import AgglomerativeClustering \n",
    "cluster = AgglomerativeClustering(n_clusters=4, affinity='Cosine', linkage='complete')\n",
    "Y_cluster = cluster.fit_predict(df)\n",
    "labels = cluster.labels_\n",
    "display(Y_cluster)\n",
    "\n",
    "column_names = ['a']\n",
    "output = pd.DataFrame(columns = column_names)\n",
    "output.pop('a')\n",
    "#display(output)\n",
    "output = output.assign(cluster=Y_cluster)\n",
    "#display(output)\n",
    "print('Show the frequency(number of members) of each cluster')\n",
    "a=output['cluster'].value_counts(ascending=False)\n",
    "display(a)\n",
    "\n",
    "column_names = ['a']\n",
    "output1 = pd.DataFrame(columns = column_names)\n",
    "output1.pop('a')\n",
    "output1 = output1.assign(cluster_size = a)\n",
    "output1['index'] = range(1, len(output1) + 1)\n",
    "display(output1)\n",
    "output1.plot.bar(x='index', y='cluster_size',rot = 0,title='Agglomerative Clustering',\n",
    "            xlabel=\"Cluster index\",\n",
    "            ylabel=\"Cluster size\")"
   ]
  },
  {
   "cell_type": "code",
   "execution_count": 147,
   "metadata": {},
   "outputs": [
    {
     "data": {
      "image/png": "[encoded data removed]",
      "text/plain": [
       "<Figure size 432x288 with 1 Axes>"
      ]
     },
     "metadata": {
      "needs_background": "light"
     },
     "output_type": "display_data"
    }
   ],
   "source": [
    "plt.scatter(New_X[Y_cluster == 0, 0], New_X[Y_cluster == 0, 1], s = 100, c = 'red', label = 'Cluster 1')\n",
    "plt.scatter(New_X[Y_cluster == 1, 0], New_X[Y_cluster == 1, 1], s = 100, c = 'blue', label = 'Cluster 2')\n",
    "plt.scatter(New_X[Y_cluster == 2, 0], New_X[Y_cluster == 2, 1], s = 100, c = 'green', label = 'Cluster 3')\n",
    "plt.scatter(New_X[Y_cluster == 3, 0], New_X[Y_cluster == 3, 1], s = 100, c = 'cyan', label = 'Cluster 4')\n",
    "plt.title('Clusters of BinString')\n",
    "plt.xlabel('bitsString index')\n",
    "plt.ylabel('Number')\n",
    "plt.legend()\n",
    "plt.show()"
   ]
  },
  {
   "cell_type": "markdown",
   "metadata": {},
   "source": [
    "## Exercise 2 - K-Means Clustering (30 points in total)"
   ]
  },
  {
   "cell_type": "markdown",
   "metadata": {},
   "source": [
    "Let's see how k-means behave differently from agglomerative clustering.\n",
    "\n",
    "### Exercise 2.1 - K-Means Clustering for Equivalence Classes (20 points)\n",
    " - Re-cluster the dataset with k-means, but with the number of clusters you obtained from Exercise 1.\n",
    " - Show the frequency(number of members) of each cluster. Again, you are encouraged to create a bar chart, but printing the numbers is also fine."
   ]
  },
  {
   "cell_type": "code",
   "execution_count": 207,
   "metadata": {},
   "outputs": [
    {
     "name": "stdout",
     "output_type": "stream",
     "text": [
      "Show the frequency(number of members) of each cluster\n"
     ]
    },
    {
     "data": {
      "text/plain": [
       "3    393\n",
       "1    334\n",
       "0    279\n",
       "2    194\n",
       "Name: cluster, dtype: int64"
      ]
     },
     "metadata": {},
     "output_type": "display_data"
    },
    {
     "data": {
      "text/html": [
       "<div>\n",
       "<style scoped>\n",
       "    .dataframe tbody tr th:only-of-type {\n",
       "        vertical-align: middle;\n",
       "    }\n",
       "\n",
       "    .dataframe tbody tr th {\n",
       "        vertical-align: top;\n",
       "    }\n",
       "\n",
       "    .dataframe thead th {\n",
       "        text-align: right;\n",
       "    }\n",
       "</style>\n",
       "<table border=\"1\" class=\"dataframe\">\n",
       "  <thead>\n",
       "    <tr style=\"text-align: right;\">\n",
       "      <th></th>\n",
       "      <th>cluster_size</th>\n",
       "      <th>index</th>\n",
       "    </tr>\n",
       "  </thead>\n",
       "  <tbody>\n",
       "    <tr>\n",
       "      <th>3</th>\n",
       "      <td>393</td>\n",
       "      <td>1</td>\n",
       "    </tr>\n",
       "    <tr>\n",
       "      <th>1</th>\n",
       "      <td>334</td>\n",
       "      <td>2</td>\n",
       "    </tr>\n",
       "    <tr>\n",
       "      <th>0</th>\n",
       "      <td>279</td>\n",
       "      <td>3</td>\n",
       "    </tr>\n",
       "    <tr>\n",
       "      <th>2</th>\n",
       "      <td>194</td>\n",
       "      <td>4</td>\n",
       "    </tr>\n",
       "  </tbody>\n",
       "</table>\n",
       "</div>"
      ],
      "text/plain": [
       "   cluster_size  index\n",
       "3           393      1\n",
       "1           334      2\n",
       "0           279      3\n",
       "2           194      4"
      ]
     },
     "metadata": {},
     "output_type": "display_data"
    },
    {
     "data": {
      "text/plain": [
       "<AxesSubplot:title={'center':'K-Means Clustering'}, xlabel='Cluster index', ylabel='Cluster size'>"
      ]
     },
     "execution_count": 207,
     "metadata": {},
     "output_type": "execute_result"
    },
    {
     "data": {
      "image/png": "[encoded data removed]",
      "text/plain": [
       "<Figure size 432x288 with 1 Axes>"
      ]
     },
     "metadata": {
      "needs_background": "light"
     },
     "output_type": "display_data"
    }
   ],
   "source": [
    "\n",
    "from matplotlib import pyplot as plt\n",
    "from sklearn.cluster import KMeans\n",
    "\n",
    "  \n",
    "kmeans = KMeans(n_clusters=4).fit(df)\n",
    "\n",
    "column_names = ['a']\n",
    "output = pd.DataFrame(columns = column_names)\n",
    "output.pop('a')\n",
    "output = output.assign(cluster=kmeans.labels_)\n",
    "print('Show the frequency(number of members) of each cluster')\n",
    "a=output['cluster'].value_counts(ascending=False)\n",
    "display(a)\n",
    "\n",
    "column_names = ['a']\n",
    "output1 = pd.DataFrame(columns = column_names)\n",
    "output1.pop('a')\n",
    "output1 = output1.assign(cluster_size = a)\n",
    "output1['index'] = range(1, len(output1) + 1)\n",
    "display(output1)\n",
    "output1.plot.bar(x='index', y='cluster_size',rot = 0,title='K-Means Clustering',\n",
    "            xlabel=\"Cluster index\",\n",
    "            ylabel=\"Cluster size\")"
   ]
  },
  {
   "cell_type": "markdown",
   "metadata": {},
   "source": [
    "### Exercise 2.2 - Difference between Agglomerative Clustering and K-Means Clustering (10 points)\n",
    "\n",
    "Compare the result from Exercise 2.1 with that from Exercise 1.2, and explain\n",
    " - How the two results are different\n",
    " - Why there is such a difference"
   ]
  },
  {
   "cell_type": "code",
   "execution_count": null,
   "metadata": {},
   "outputs": [],
   "source": [
    "# How the two results are different: We can see the different by watching the bars!\n",
    "# Why there is such a difference: K-Means Clustering search for the gravity around the centroids, while Agglomerative Clustering\n",
    "#                                 build the cluster bottom up based on the shortest distance between objects."
   ]
  },
  {
   "cell_type": "markdown",
   "metadata": {},
   "source": [
    "## Exercise 3 - Principal Component Analysis (30 points in total)\n",
    "\n",
    "We can visualize how the bitstrings are distributed using principal component analysis.\n",
    "\n",
    "### Exercise 3.1 - Generate 2 Clusters (10 points)\n",
    "\n",
    " - Re-do the k-means clustering on our dataset again, but this time we only consider ```k=2```.\n",
    " - Show the frequency(number of members) of each cluster."
   ]
  },
  {
   "cell_type": "code",
   "execution_count": 201,
   "metadata": {},
   "outputs": [
    {
     "name": "stdout",
     "output_type": "stream",
     "text": [
      "Show the frequency(number of members) of each cluster\n"
     ]
    },
    {
     "data": {
      "text/plain": [
       "1    784\n",
       "0    416\n",
       "Name: cluster, dtype: int64"
      ]
     },
     "metadata": {},
     "output_type": "display_data"
    },
    {
     "data": {
      "text/html": [
       "<div>\n",
       "<style scoped>\n",
       "    .dataframe tbody tr th:only-of-type {\n",
       "        vertical-align: middle;\n",
       "    }\n",
       "\n",
       "    .dataframe tbody tr th {\n",
       "        vertical-align: top;\n",
       "    }\n",
       "\n",
       "    .dataframe thead th {\n",
       "        text-align: right;\n",
       "    }\n",
       "</style>\n",
       "<table border=\"1\" class=\"dataframe\">\n",
       "  <thead>\n",
       "    <tr style=\"text-align: right;\">\n",
       "      <th></th>\n",
       "      <th>cluster_size</th>\n",
       "      <th>index</th>\n",
       "    </tr>\n",
       "  </thead>\n",
       "  <tbody>\n",
       "    <tr>\n",
       "      <th>1</th>\n",
       "      <td>784</td>\n",
       "      <td>1</td>\n",
       "    </tr>\n",
       "    <tr>\n",
       "      <th>0</th>\n",
       "      <td>416</td>\n",
       "      <td>2</td>\n",
       "    </tr>\n",
       "  </tbody>\n",
       "</table>\n",
       "</div>"
      ],
      "text/plain": [
       "   cluster_size  index\n",
       "1           784      1\n",
       "0           416      2"
      ]
     },
     "metadata": {},
     "output_type": "display_data"
    },
    {
     "data": {
      "text/plain": [
       "<AxesSubplot:title={'center':'K-Means Clustering'}, xlabel='Cluster index', ylabel='Cluster size'>"
      ]
     },
     "execution_count": 201,
     "metadata": {},
     "output_type": "execute_result"
    },
    {
     "data": {
      "image/png": "[encoded data removed]",
      "text/plain": [
       "<Figure size 432x288 with 1 Axes>"
      ]
     },
     "metadata": {
      "needs_background": "light"
     },
     "output_type": "display_data"
    }
   ],
   "source": [
    "from matplotlib import pyplot as plt\n",
    "from sklearn.cluster import KMeans\n",
    "\n",
    "  \n",
    "kmeans = KMeans(n_clusters=2).fit(df)\n",
    "\n",
    "column_names = ['a']\n",
    "output = pd.DataFrame(columns = column_names)\n",
    "output.pop('a')\n",
    "output = output.assign(cluster=kmeans.labels_)\n",
    "print('Show the frequency(number of members) of each cluster')\n",
    "a=output['cluster'].value_counts(ascending=False)\n",
    "display(a)\n",
    "\n",
    "column_names = ['a']\n",
    "output1 = pd.DataFrame(columns = column_names)\n",
    "output1.pop('a')\n",
    "output1 = output1.assign(cluster_size = a)\n",
    "output1['index'] = range(1, len(output1) + 1)\n",
    "display(output1)\n",
    "output1.plot.bar(x='index', y='cluster_size',rot = 0,title='K-Means Clustering',\n",
    "            xlabel=\"Cluster index\",\n",
    "            ylabel=\"Cluster size\")"
   ]
  },
  {
   "cell_type": "markdown",
   "metadata": {},
   "source": [
    "### Exercise 3.2 - PCA for Feature Extraction (20 points)\n",
    "\n",
    " - Retrieve the projected dataset with PCA, using ```n_components=2```.\n",
    " - Generate a scatter plot to visualize the projected points, where they should be colored differently based on the assigned cluster in Exercise 3.1.\n",
    " - In the first principal component, **print out** the weights of all features.\n",
    " - Report which feature has the **highest positive** weight in the first principal component."
   ]
  },
  {
   "cell_type": "code",
   "execution_count": 210,
   "metadata": {},
   "outputs": [
    {
     "data": {
      "text/html": [
       "<div>\n",
       "<style scoped>\n",
       "    .dataframe tbody tr th:only-of-type {\n",
       "        vertical-align: middle;\n",
       "    }\n",
       "\n",
       "    .dataframe tbody tr th {\n",
       "        vertical-align: top;\n",
       "    }\n",
       "\n",
       "    .dataframe thead th {\n",
       "        text-align: right;\n",
       "    }\n",
       "</style>\n",
       "<table border=\"1\" class=\"dataframe\">\n",
       "  <thead>\n",
       "    <tr style=\"text-align: right;\">\n",
       "      <th></th>\n",
       "      <th>principal component 1</th>\n",
       "      <th>principal component 2</th>\n",
       "    </tr>\n",
       "  </thead>\n",
       "  <tbody>\n",
       "    <tr>\n",
       "      <th>0</th>\n",
       "      <td>-0.645429</td>\n",
       "      <td>0.339771</td>\n",
       "    </tr>\n",
       "    <tr>\n",
       "      <th>1</th>\n",
       "      <td>-0.898279</td>\n",
       "      <td>0.457490</td>\n",
       "    </tr>\n",
       "    <tr>\n",
       "      <th>2</th>\n",
       "      <td>-0.485742</td>\n",
       "      <td>0.487561</td>\n",
       "    </tr>\n",
       "    <tr>\n",
       "      <th>3</th>\n",
       "      <td>-0.898279</td>\n",
       "      <td>0.457490</td>\n",
       "    </tr>\n",
       "    <tr>\n",
       "      <th>4</th>\n",
       "      <td>-1.149278</td>\n",
       "      <td>0.334337</td>\n",
       "    </tr>\n",
       "    <tr>\n",
       "      <th>...</th>\n",
       "      <td>...</td>\n",
       "      <td>...</td>\n",
       "    </tr>\n",
       "    <tr>\n",
       "      <th>1195</th>\n",
       "      <td>-0.216742</td>\n",
       "      <td>-0.542621</td>\n",
       "    </tr>\n",
       "    <tr>\n",
       "      <th>1196</th>\n",
       "      <td>-0.605117</td>\n",
       "      <td>-0.590263</td>\n",
       "    </tr>\n",
       "    <tr>\n",
       "      <th>1197</th>\n",
       "      <td>0.036109</td>\n",
       "      <td>-0.660339</td>\n",
       "    </tr>\n",
       "    <tr>\n",
       "      <th>1198</th>\n",
       "      <td>-0.127348</td>\n",
       "      <td>-0.533229</td>\n",
       "    </tr>\n",
       "    <tr>\n",
       "      <th>1199</th>\n",
       "      <td>0.225606</td>\n",
       "      <td>-1.228084</td>\n",
       "    </tr>\n",
       "  </tbody>\n",
       "</table>\n",
       "<p>1200 rows × 2 columns</p>\n",
       "</div>"
      ],
      "text/plain": [
       "      principal component 1  principal component 2\n",
       "0                 -0.645429               0.339771\n",
       "1                 -0.898279               0.457490\n",
       "2                 -0.485742               0.487561\n",
       "3                 -0.898279               0.457490\n",
       "4                 -1.149278               0.334337\n",
       "...                     ...                    ...\n",
       "1195              -0.216742              -0.542621\n",
       "1196              -0.605117              -0.590263\n",
       "1197               0.036109              -0.660339\n",
       "1198              -0.127348              -0.533229\n",
       "1199               0.225606              -1.228084\n",
       "\n",
       "[1200 rows x 2 columns]"
      ]
     },
     "metadata": {},
     "output_type": "display_data"
    }
   ],
   "source": [
    "from sklearn.decomposition import PCA\n",
    "df1 = df.copy()\n",
    "pca = PCA(n_components=2)\n",
    "principalComponents = pca.fit_transform(df1)\n",
    "principalDf = pd.DataFrame(data = principalComponents\n",
    "             , columns = ['principal component 1', 'principal component 2'])\n",
    "\n",
    "\n",
    "display(principalDf)"
   ]
  },
  {
   "cell_type": "code",
   "execution_count": null,
   "metadata": {},
   "outputs": [],
   "source": [
    "#Generate a scatter plot to visualize the projected points, where they should be colored differently based on the assigned cluster in Exercise 3.1."
   ]
  },
  {
   "cell_type": "code",
   "execution_count": 215,
   "metadata": {},
   "outputs": [
    {
     "data": {
      "text/plain": [
       "<BarContainer object of 16 artists>"
      ]
     },
     "execution_count": 215,
     "metadata": {},
     "output_type": "execute_result"
    },
    {
     "data": {
      "image/png": "[encoded data removed]",
      "text/plain": [
       "<Figure size 432x288 with 2 Axes>"
      ]
     },
     "metadata": {
      "needs_background": "light"
     },
     "output_type": "display_data"
    }
   ],
   "source": [
    "feature_weights = pca.components_\n",
    "import matplotlib.pyplot as plt\n",
    "%matplotlib inline\n",
    "fig, (ax1,ax2) = plt.subplots(1,2)\n",
    "ax1.bar(range(16),feature_weights[0],color=['b','g','r','c'])\n",
    "ax2.bar(range(16),feature_weights[1],color=['b','g','r','c'])"
   ]
  },
  {
   "cell_type": "code",
   "execution_count": null,
   "metadata": {},
   "outputs": [],
   "source": [
    "The feature that has the highest positive weight in the first principal component is b15"
   ]
  }
 ],
 "metadata": {
  "kernelspec": {
   "display_name": "Python 3",
   "language": "python",
   "name": "python3"
  },
  "language_info": {
   "codemirror_mode": {
    "name": "ipython",
    "version": 3
   },
   "file_extension": ".py",
   "mimetype": "text/x-python",
   "name": "python",
   "nbconvert_exporter": "python",
   "pygments_lexer": "ipython3",
   "version": "3.8.8"
  }
 },
 "nbformat": 4,
 "nbformat_minor": 4
}
